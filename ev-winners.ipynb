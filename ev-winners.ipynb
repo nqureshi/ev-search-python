{
 "cells": [
  {
   "cell_type": "code",
   "execution_count": 2,
   "id": "3ed3e51c-28f6-4a14-88c0-c4d15822e539",
   "metadata": {},
   "outputs": [],
   "source": [
    "from sentence_transformers import SentenceTransformer, util\n",
    "model = SentenceTransformer('sentence-transformers/all-mpnet-base-v2')"
   ]
  },
  {
   "cell_type": "code",
   "execution_count": 3,
   "id": "60161ccb-22c2-4bcc-a39e-2148fdef16e6",
   "metadata": {},
   "outputs": [
    {
     "name": "stdout",
     "output_type": "stream",
     "text": [
      "   #                                               name batch date_announced  \\\n",
      "0  1                                  Tymofiy Mylovanov     1     2018-11-07   \n",
      "1  2                                        Topos House     1     2018-11-07   \n",
      "2  3                      18-year-old economics prodigy     1     2018-11-07   \n",
      "3  4  Mark Lutter and his Center for Innovative Gove...     1     2018-11-07   \n",
      "4  5                                     Harshita Arora     1     2018-11-07   \n",
      "\n",
      "                                                link  \\\n",
      "0  marginalrevolution.com/marginalrevolution/2018...   \n",
      "1  marginalrevolution.com/marginalrevolution/2018...   \n",
      "2  marginalrevolution.com/marginalrevolution/2018...   \n",
      "3  marginalrevolution.com/marginalrevolution/2018...   \n",
      "4  marginalrevolution.com/marginalrevolution/2018...   \n",
      "\n",
      "                                         description              type  \\\n",
      "0  Anonymous grant for writing in Eastern Europe....  Writing (Online)   \n",
      "1  Pledged grant to San Francisco’s Topos House, ...        Non profit   \n",
      "2  Travel grant made to 18-year-old economics pro...            Travel   \n",
      "3  Grant to support the work of Mark Lutter and h...        Non profit   \n",
      "4  Grant to Harshita Arora to help her pursue wor...          Research   \n",
      "\n",
      "  career_stage                                     personal_links  \\\n",
      "0          NaN                                                  -   \n",
      "1          NaN                                                  -   \n",
      "2  High school                                                  -   \n",
      "3       Middle  linkedin.com/in/mark-lutter-a23a7669/\\ntwitter...   \n",
      "4  High school  twitter.com/aroraharshita33\\nlinkedin.com/in/h...   \n",
      "\n",
      "                                       personal_info  \\\n",
      "0                                                  -   \n",
      "1                                                  -   \n",
      "2                                                  -   \n",
      "3  Washington\\nFounder and Executive Director at ...   \n",
      "4  San-Francisco, California\\nCo-founder of AtoB,...   \n",
      "\n",
      "                                            mr_posts         project_links  \\\n",
      "0                                                  -                     -   \n",
      "1                                                  -  retreat.topos.house/   \n",
      "2                                                  -                     -   \n",
      "3  marginalrevolution.com/marginalrevolution/2020...       marklutter.com/   \n",
      "4  marginalrevolution.com/marginalrevolution/2020...    harshitaarora.com/   \n",
      "\n",
      "   Unnamed: 12  Unnamed: 13          Categories  \n",
      "0          NaN          NaN      Writing (Book)  \n",
      "1          NaN          NaN    Writing (Online)  \n",
      "2          NaN          NaN            Research  \n",
      "3          NaN          NaN              Travel  \n",
      "4          NaN          NaN  Career development  \n"
     ]
    }
   ],
   "source": [
    "import pandas as pd\n",
    "\n",
    "# Replace 'your_file_path' with the actual path to your CSV file\n",
    "df = pd.read_csv('ev-winners.csv')\n",
    "\n",
    "# This will display the first few rows of the DataFrame\n",
    "print(df.head())\n"
   ]
  },
  {
   "cell_type": "code",
   "execution_count": 7,
   "id": "d3e06cb5-e609-448f-93de-ff2861d28952",
   "metadata": {},
   "outputs": [],
   "source": [
    "names = df['name'].to_numpy()\n",
    "descriptions = df['description'].to_numpy()\n",
    "# generate embeddings of the descriptions\n",
    "embeddings = model.encode(descriptions)"
   ]
  },
  {
   "cell_type": "code",
   "execution_count": 9,
   "id": "804ee34c-9c83-44e9-91a1-324e0492272f",
   "metadata": {},
   "outputs": [],
   "source": [
    "import numpy as np\n",
    "\n",
    "def get_ev_winners(query):\n",
    "\n",
    "    #embeddings of the query, same dimensions as the description embeddings\n",
    "    query_embed = np.tile(model.encode(query), (len(embeddings), 1))\n",
    "    \n",
    "    cos_sim = util.cos_sim(embeddings, query_embed)\n",
    "    cos_sim\n",
    "    \n",
    "    # Add all pairs to a list with their cosine similarity score\n",
    "    all_sentence_combinations = []\n",
    "    for i in range(len(cos_sim)-1):\n",
    "        all_sentence_combinations.append([cos_sim[i], descriptions[i], names[i]])\n",
    "    \n",
    "    # Sort list by the highest cosine similarity score\n",
    "    all_sentence_combinations = sorted(all_sentence_combinations, key=lambda x: x[0][0], reverse=True)\n",
    "    \n",
    "    return all_sentence_combinations"
   ]
  },
  {
   "cell_type": "code",
   "execution_count": 11,
   "id": "421f05e4-9c03-4701-9fac-6d7d300c18a2",
   "metadata": {},
   "outputs": [
    {
     "name": "stdout",
     "output_type": "stream",
     "text": [
      "Top 10 matches for query: book\n",
      "\n",
      "1. Andy Matuschak: San Francisco, to support his project to reexamine and fundamentally improve the book as a method for learning and absorbing ideas, Twitter here. Here is his essay on why books do not work.\n",
      "2. Kathleen Harward: Kathleen Harward, to write and market a series of children’s books based on classical liberal values.\n",
      "3. Sonja Trauss: Sonja Trauss of YIMBY, assistance to publish Nicholas Barbon, A Defence of the Builder.\n",
      "4. Marc Sidwell: Marc Sidwell of the United Kingdom, to write a book on common sense.\n",
      "5. Jeffrey C. Huber: Jeffrey C. Huber, to write a book on tech and economic progress from a Christian point of view.\n",
      "6. Joe Francis: Joe Francis, a farmer in Wales, to write a book on the economic and historical import of slavery in the American republic.\n",
      "7. Tony Morley: Tony Morley, Progress Studies fellow, from Ngunnawal, Australia, to write the first optimistic children’s book on progress.\n",
      "8. Henry Oliver: Henry Oliver, London, to write a book on talent and late bloomers. Substack here.\n",
      "9. Yuen Yuen Ang: Yuen Yuen Ang, political scientist at the University of Michigan, from Singapore, to write a new book on disruption.\n",
      "10. John Durant: John Durant, for career development and writing, and explorations into notions of angels.\n"
     ]
    }
   ],
   "source": [
    "def search_ev_winners(query, number):\n",
    "    print(f\"Top {number} matches for query: {query}\\n\")\n",
    "    for index, item in enumerate(get_ev_winners(query)[:number], start=1):\n",
    "        print(f\"{index}. {item[2]}: {item[1]}\")\n",
    "\n",
    "search_ev_winners(\"book\", 10)"
   ]
  },
  {
   "cell_type": "code",
   "execution_count": null,
   "id": "86842b34-5362-4ad2-939a-fcac0126908b",
   "metadata": {},
   "outputs": [],
   "source": []
  }
 ],
 "metadata": {
  "kernelspec": {
   "display_name": "Python 3 (ipykernel)",
   "language": "python",
   "name": "python3"
  },
  "language_info": {
   "codemirror_mode": {
    "name": "ipython",
    "version": 3
   },
   "file_extension": ".py",
   "mimetype": "text/x-python",
   "name": "python",
   "nbconvert_exporter": "python",
   "pygments_lexer": "ipython3",
   "version": "3.11.5"
  }
 },
 "nbformat": 4,
 "nbformat_minor": 5
}
